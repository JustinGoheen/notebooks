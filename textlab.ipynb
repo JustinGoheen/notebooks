{
  "nbformat": 4,
  "nbformat_minor": 0,
  "metadata": {
    "colab": {
      "provenance": [],
      "gpuType": "T4",
      "authorship_tag": "ABX9TyMBxzWHqEEHWFP5wqRIo+Ca",
      "include_colab_link": true
    },
    "kernelspec": {
      "name": "python3",
      "display_name": "Python 3"
    },
    "language_info": {
      "name": "python"
    },
    "accelerator": "GPU",
    "widgets": {
      "application/vnd.jupyter.widget-state+json": {
        "90456074bdf24b1187898664f9bdacb1": {
          "model_module": "@jupyter-widgets/controls",
          "model_name": "HBoxModel",
          "model_module_version": "1.5.0",
          "state": {
            "_dom_classes": [],
            "_model_module": "@jupyter-widgets/controls",
            "_model_module_version": "1.5.0",
            "_model_name": "HBoxModel",
            "_view_count": null,
            "_view_module": "@jupyter-widgets/controls",
            "_view_module_version": "1.5.0",
            "_view_name": "HBoxView",
            "box_style": "",
            "children": [
              "IPY_MODEL_f1cef4cf5a1443c49cd59529e7e26724",
              "IPY_MODEL_d11ba299ab244cf895b78481754ae23b",
              "IPY_MODEL_0db63fc5af9c4b7b89ba0b5ed49b134f"
            ],
            "layout": "IPY_MODEL_56aafda8990a418f9b30f637b1d1dcf4"
          }
        },
        "f1cef4cf5a1443c49cd59529e7e26724": {
          "model_module": "@jupyter-widgets/controls",
          "model_name": "HTMLModel",
          "model_module_version": "1.5.0",
          "state": {
            "_dom_classes": [],
            "_model_module": "@jupyter-widgets/controls",
            "_model_module_version": "1.5.0",
            "_model_name": "HTMLModel",
            "_view_count": null,
            "_view_module": "@jupyter-widgets/controls",
            "_view_module_version": "1.5.0",
            "_view_name": "HTMLView",
            "description": "",
            "description_tooltip": null,
            "layout": "IPY_MODEL_378d549069424534a474efeda952048d",
            "placeholder": "​",
            "style": "IPY_MODEL_2cb12bf3d38842e0b93d420c2cb5c3f5",
            "value": "Epoch 9: 100%"
          }
        },
        "d11ba299ab244cf895b78481754ae23b": {
          "model_module": "@jupyter-widgets/controls",
          "model_name": "FloatProgressModel",
          "model_module_version": "1.5.0",
          "state": {
            "_dom_classes": [],
            "_model_module": "@jupyter-widgets/controls",
            "_model_module_version": "1.5.0",
            "_model_name": "FloatProgressModel",
            "_view_count": null,
            "_view_module": "@jupyter-widgets/controls",
            "_view_module_version": "1.5.0",
            "_view_name": "ProgressView",
            "bar_style": "success",
            "description": "",
            "description_tooltip": null,
            "layout": "IPY_MODEL_6ea89b40964244739ccd834bc0c278a4",
            "max": 47739,
            "min": 0,
            "orientation": "horizontal",
            "style": "IPY_MODEL_4878d52049bf46658aa02f58ce16e319",
            "value": 47739
          }
        },
        "0db63fc5af9c4b7b89ba0b5ed49b134f": {
          "model_module": "@jupyter-widgets/controls",
          "model_name": "HTMLModel",
          "model_module_version": "1.5.0",
          "state": {
            "_dom_classes": [],
            "_model_module": "@jupyter-widgets/controls",
            "_model_module_version": "1.5.0",
            "_model_name": "HTMLModel",
            "_view_count": null,
            "_view_module": "@jupyter-widgets/controls",
            "_view_module_version": "1.5.0",
            "_view_name": "HTMLView",
            "description": "",
            "description_tooltip": null,
            "layout": "IPY_MODEL_2118b1ea8a2444d3a7e29cb03b9dd314",
            "placeholder": "​",
            "style": "IPY_MODEL_e8840e6c32124824ae56a39733702a4f",
            "value": " 47739/47739 [15:36&lt;00:00, 50.95it/s, v_num=0]"
          }
        },
        "56aafda8990a418f9b30f637b1d1dcf4": {
          "model_module": "@jupyter-widgets/base",
          "model_name": "LayoutModel",
          "model_module_version": "1.2.0",
          "state": {
            "_model_module": "@jupyter-widgets/base",
            "_model_module_version": "1.2.0",
            "_model_name": "LayoutModel",
            "_view_count": null,
            "_view_module": "@jupyter-widgets/base",
            "_view_module_version": "1.2.0",
            "_view_name": "LayoutView",
            "align_content": null,
            "align_items": null,
            "align_self": null,
            "border": null,
            "bottom": null,
            "display": "inline-flex",
            "flex": null,
            "flex_flow": "row wrap",
            "grid_area": null,
            "grid_auto_columns": null,
            "grid_auto_flow": null,
            "grid_auto_rows": null,
            "grid_column": null,
            "grid_gap": null,
            "grid_row": null,
            "grid_template_areas": null,
            "grid_template_columns": null,
            "grid_template_rows": null,
            "height": null,
            "justify_content": null,
            "justify_items": null,
            "left": null,
            "margin": null,
            "max_height": null,
            "max_width": null,
            "min_height": null,
            "min_width": null,
            "object_fit": null,
            "object_position": null,
            "order": null,
            "overflow": null,
            "overflow_x": null,
            "overflow_y": null,
            "padding": null,
            "right": null,
            "top": null,
            "visibility": null,
            "width": "100%"
          }
        },
        "378d549069424534a474efeda952048d": {
          "model_module": "@jupyter-widgets/base",
          "model_name": "LayoutModel",
          "model_module_version": "1.2.0",
          "state": {
            "_model_module": "@jupyter-widgets/base",
            "_model_module_version": "1.2.0",
            "_model_name": "LayoutModel",
            "_view_count": null,
            "_view_module": "@jupyter-widgets/base",
            "_view_module_version": "1.2.0",
            "_view_name": "LayoutView",
            "align_content": null,
            "align_items": null,
            "align_self": null,
            "border": null,
            "bottom": null,
            "display": null,
            "flex": null,
            "flex_flow": null,
            "grid_area": null,
            "grid_auto_columns": null,
            "grid_auto_flow": null,
            "grid_auto_rows": null,
            "grid_column": null,
            "grid_gap": null,
            "grid_row": null,
            "grid_template_areas": null,
            "grid_template_columns": null,
            "grid_template_rows": null,
            "height": null,
            "justify_content": null,
            "justify_items": null,
            "left": null,
            "margin": null,
            "max_height": null,
            "max_width": null,
            "min_height": null,
            "min_width": null,
            "object_fit": null,
            "object_position": null,
            "order": null,
            "overflow": null,
            "overflow_x": null,
            "overflow_y": null,
            "padding": null,
            "right": null,
            "top": null,
            "visibility": null,
            "width": null
          }
        },
        "2cb12bf3d38842e0b93d420c2cb5c3f5": {
          "model_module": "@jupyter-widgets/controls",
          "model_name": "DescriptionStyleModel",
          "model_module_version": "1.5.0",
          "state": {
            "_model_module": "@jupyter-widgets/controls",
            "_model_module_version": "1.5.0",
            "_model_name": "DescriptionStyleModel",
            "_view_count": null,
            "_view_module": "@jupyter-widgets/base",
            "_view_module_version": "1.2.0",
            "_view_name": "StyleView",
            "description_width": ""
          }
        },
        "6ea89b40964244739ccd834bc0c278a4": {
          "model_module": "@jupyter-widgets/base",
          "model_name": "LayoutModel",
          "model_module_version": "1.2.0",
          "state": {
            "_model_module": "@jupyter-widgets/base",
            "_model_module_version": "1.2.0",
            "_model_name": "LayoutModel",
            "_view_count": null,
            "_view_module": "@jupyter-widgets/base",
            "_view_module_version": "1.2.0",
            "_view_name": "LayoutView",
            "align_content": null,
            "align_items": null,
            "align_self": null,
            "border": null,
            "bottom": null,
            "display": null,
            "flex": "2",
            "flex_flow": null,
            "grid_area": null,
            "grid_auto_columns": null,
            "grid_auto_flow": null,
            "grid_auto_rows": null,
            "grid_column": null,
            "grid_gap": null,
            "grid_row": null,
            "grid_template_areas": null,
            "grid_template_columns": null,
            "grid_template_rows": null,
            "height": null,
            "justify_content": null,
            "justify_items": null,
            "left": null,
            "margin": null,
            "max_height": null,
            "max_width": null,
            "min_height": null,
            "min_width": null,
            "object_fit": null,
            "object_position": null,
            "order": null,
            "overflow": null,
            "overflow_x": null,
            "overflow_y": null,
            "padding": null,
            "right": null,
            "top": null,
            "visibility": null,
            "width": null
          }
        },
        "4878d52049bf46658aa02f58ce16e319": {
          "model_module": "@jupyter-widgets/controls",
          "model_name": "ProgressStyleModel",
          "model_module_version": "1.5.0",
          "state": {
            "_model_module": "@jupyter-widgets/controls",
            "_model_module_version": "1.5.0",
            "_model_name": "ProgressStyleModel",
            "_view_count": null,
            "_view_module": "@jupyter-widgets/base",
            "_view_module_version": "1.2.0",
            "_view_name": "StyleView",
            "bar_color": null,
            "description_width": ""
          }
        },
        "2118b1ea8a2444d3a7e29cb03b9dd314": {
          "model_module": "@jupyter-widgets/base",
          "model_name": "LayoutModel",
          "model_module_version": "1.2.0",
          "state": {
            "_model_module": "@jupyter-widgets/base",
            "_model_module_version": "1.2.0",
            "_model_name": "LayoutModel",
            "_view_count": null,
            "_view_module": "@jupyter-widgets/base",
            "_view_module_version": "1.2.0",
            "_view_name": "LayoutView",
            "align_content": null,
            "align_items": null,
            "align_self": null,
            "border": null,
            "bottom": null,
            "display": null,
            "flex": null,
            "flex_flow": null,
            "grid_area": null,
            "grid_auto_columns": null,
            "grid_auto_flow": null,
            "grid_auto_rows": null,
            "grid_column": null,
            "grid_gap": null,
            "grid_row": null,
            "grid_template_areas": null,
            "grid_template_columns": null,
            "grid_template_rows": null,
            "height": null,
            "justify_content": null,
            "justify_items": null,
            "left": null,
            "margin": null,
            "max_height": null,
            "max_width": null,
            "min_height": null,
            "min_width": null,
            "object_fit": null,
            "object_position": null,
            "order": null,
            "overflow": null,
            "overflow_x": null,
            "overflow_y": null,
            "padding": null,
            "right": null,
            "top": null,
            "visibility": null,
            "width": null
          }
        },
        "e8840e6c32124824ae56a39733702a4f": {
          "model_module": "@jupyter-widgets/controls",
          "model_name": "DescriptionStyleModel",
          "model_module_version": "1.5.0",
          "state": {
            "_model_module": "@jupyter-widgets/controls",
            "_model_module_version": "1.5.0",
            "_model_name": "DescriptionStyleModel",
            "_view_count": null,
            "_view_module": "@jupyter-widgets/base",
            "_view_module_version": "1.2.0",
            "_view_name": "StyleView",
            "description_width": ""
          }
        }
      }
    }
  },
  "cells": [
    {
      "cell_type": "markdown",
      "metadata": {
        "id": "view-in-github",
        "colab_type": "text"
      },
      "source": [
        "<a href=\"https://colab.research.google.com/github/JustinGoheen/notebooks/blob/main/textlab.ipynb\" target=\"_parent\"><img src=\"https://colab.research.google.com/assets/colab-badge.svg\" alt=\"Open In Colab\"/></a>"
      ]
    },
    {
      "cell_type": "markdown",
      "source": [
        "# Install PyTorch Lightning"
      ],
      "metadata": {
        "id": "ndPqghCTpNqx"
      }
    },
    {
      "cell_type": "markdown",
      "source": [
        "If you are running this locally and haven't already installed PyTorch Lightning, you can do so with:\n",
        "\n",
        "```sh\n",
        "pip install pytorch-lightning\n",
        "```"
      ],
      "metadata": {
        "id": "MqDR0rdO6uPD"
      }
    },
    {
      "cell_type": "code",
      "source": [
        "%%capture\n",
        "!pip install \"pytorch-lightning>=2.0\" -q"
      ],
      "metadata": {
        "id": "ZXoooct1ogSi"
      },
      "execution_count": 1,
      "outputs": []
    },
    {
      "cell_type": "markdown",
      "source": [
        "# Import PyTorch Lightning and TorchMetrics"
      ],
      "metadata": {
        "id": "JLTTPnTPpW5J"
      }
    },
    {
      "cell_type": "code",
      "source": [
        "import pytorch_lightning as pl\n",
        "import torchmetrics as tm"
      ],
      "metadata": {
        "id": "NsYVgWj1pX2i"
      },
      "execution_count": null,
      "outputs": []
    },
    {
      "cell_type": "markdown",
      "source": [
        "# Import the Transformer and Dataset"
      ],
      "metadata": {
        "id": "2kvxW9bupcKT"
      }
    },
    {
      "cell_type": "code",
      "source": [
        "from pytorch_lightning.demos.transformer import Transformer, WikiText2"
      ],
      "metadata": {
        "id": "OtalT4YFoZHA"
      },
      "execution_count": null,
      "outputs": []
    },
    {
      "cell_type": "markdown",
      "source": [
        "# Import PyTorch"
      ],
      "metadata": {
        "id": "Z25J5fPQpTFM"
      }
    },
    {
      "cell_type": "code",
      "execution_count": null,
      "metadata": {
        "id": "EfRLeL8HoNlA"
      },
      "outputs": [],
      "source": [
        "import torch\n",
        "from torch import nn\n",
        "from torch.utils.data import DataLoader"
      ]
    },
    {
      "cell_type": "markdown",
      "source": [
        "# Create the Custom LightningDataModule"
      ],
      "metadata": {
        "id": "UNnuqvMSyBbu"
      }
    },
    {
      "cell_type": "code",
      "source": [
        "import multiprocessing\n",
        "import os\n",
        "from pathlib import Path\n",
        "\n",
        "from torch.utils.data import DataLoader, random_split\n",
        "\n",
        "from pytorch_lightning.utilities.types import EVAL_DATALOADERS, TRAIN_DATALOADERS\n",
        "\n",
        "\n",
        "class WikiText2DataModule(pl.LightningDataModule):\n",
        "    def __init__(\n",
        "        self,\n",
        "        num_workers: int = 2,\n",
        "        data_dir: Path = Path(\"./tutorial_data\"),\n",
        "        block_size: int = 35,\n",
        "        download: bool = True,\n",
        "        train_size: float = 0.8,\n",
        "    ) -> None:\n",
        "        super().__init__()\n",
        "        self.data_dir = data_dir\n",
        "        self.block_size = block_size\n",
        "        self.download = download\n",
        "        self.num_workers = num_workers\n",
        "        self.train_size = train_size\n",
        "\n",
        "    def prepare_data(self) -> None:\n",
        "        self.dataset = WikiText2(data_dir=self.data_dir, block_size=self.block_size, download=self.download)\n",
        "\n",
        "    def setup(self, stage: str) -> None:\n",
        "        if stage == \"fit\" or stage is None:\n",
        "            train_size = int(len(self.dataset) * self.train_size)\n",
        "            test_size = len(self.dataset) - train_size\n",
        "            self.train_data, self.val_data = random_split(self.dataset, lengths=[train_size, test_size])\n",
        "        if stage == \"test\" or stage is None:\n",
        "            self.test_data = self.val_data\n",
        "\n",
        "    def train_dataloader(self) -> TRAIN_DATALOADERS:\n",
        "        return DataLoader(self.train_data, num_workers=self.num_workers)\n",
        "\n",
        "    def val_dataloader(self) -> EVAL_DATALOADERS:\n",
        "        return DataLoader(self.val_data, num_workers=self.num_workers)\n",
        "\n",
        "    def test_dataloader(self) -> EVAL_DATALOADERS:\n",
        "        return DataLoader(self.test_data, num_workers=self.num_workers)\n"
      ],
      "metadata": {
        "id": "xyW_Qf1QyFtl"
      },
      "execution_count": null,
      "outputs": []
    },
    {
      "cell_type": "markdown",
      "source": [
        "# Create the LanguageModel class using LightningModule"
      ],
      "metadata": {
        "id": "GCY16qs8pjUp"
      }
    },
    {
      "cell_type": "code",
      "source": [
        "class LanguageModel(pl.LightningModule):\n",
        "    def __init__(self, vocab_size: int = 33278):\n",
        "        super().__init__()\n",
        "        self.model = Transformer(vocab_size=vocab_size)\n",
        "\n",
        "    def forward(self, inputs, target):\n",
        "        return self.model(inputs, target)\n",
        "\n",
        "    def training_step(self, batch, batch_idx):\n",
        "        inputs, target = batch\n",
        "        output = self(inputs, target)\n",
        "        loss = torch.nn.functional.nll_loss(output, target.view(-1))\n",
        "        return loss\n",
        "\n",
        "    def configure_optimizers(self):\n",
        "        return torch.optim.SGD(self.model.parameters(), lr=0.1)\n",
        "\n",
        "    def prepare_data(self):\n",
        "        WikiText2(download=True)"
      ],
      "metadata": {
        "id": "GI4FKGX_pLP0"
      },
      "execution_count": null,
      "outputs": []
    },
    {
      "cell_type": "markdown",
      "source": [
        "# Create a Trainer"
      ],
      "metadata": {
        "id": "oFvZtDRCqgFy"
      }
    },
    {
      "cell_type": "markdown",
      "source": [
        "## Prepare the Dataset"
      ],
      "metadata": {
        "id": "TJj2HjV-zxYW"
      }
    },
    {
      "cell_type": "code",
      "source": [
        "datamodule = WikiText2DataModule()"
      ],
      "metadata": {
        "id": "odlux34Bz1GV"
      },
      "execution_count": null,
      "outputs": []
    },
    {
      "cell_type": "markdown",
      "source": [
        "## Instantiate a Model Object"
      ],
      "metadata": {
        "id": "Z7-oK9b2z1wC"
      }
    },
    {
      "cell_type": "code",
      "source": [
        "model = LanguageModel()"
      ],
      "metadata": {
        "id": "AaDiKVLtz6ME"
      },
      "execution_count": null,
      "outputs": []
    },
    {
      "cell_type": "markdown",
      "source": [
        "## Instantiate a Trainer Object"
      ],
      "metadata": {
        "id": "Zms-v9UUz8EL"
      }
    },
    {
      "cell_type": "code",
      "source": [
        "logsdir = \"./lightning_logs\""
      ],
      "metadata": {
        "id": "CSZAQCZqDKvg"
      },
      "execution_count": null,
      "outputs": []
    },
    {
      "cell_type": "code",
      "source": [
        "trainer = pl.Trainer(\n",
        "    max_epochs=2,\n",
        "    logger=pl.loggers.CSVLogger(logsdir),\n",
        "    profiler=pl.profilers.SimpleProfiler(dirpath=logsdir)\n",
        ")"
      ],
      "metadata": {
        "colab": {
          "base_uri": "https://localhost:8080/"
        },
        "id": "no4IhOhaqfCm",
        "outputId": "70897798-c122-4fcb-fb7b-dd7f12bcac28"
      },
      "execution_count": null,
      "outputs": [
        {
          "output_type": "stream",
          "name": "stderr",
          "text": [
            "INFO:pytorch_lightning.utilities.rank_zero:GPU available: True (cuda), used: True\n",
            "INFO:pytorch_lightning.utilities.rank_zero:TPU available: False, using: 0 TPU cores\n",
            "INFO:pytorch_lightning.utilities.rank_zero:IPU available: False, using: 0 IPUs\n",
            "INFO:pytorch_lightning.utilities.rank_zero:HPU available: False, using: 0 HPUs\n"
          ]
        }
      ]
    },
    {
      "cell_type": "markdown",
      "source": [
        "## Train the Model"
      ],
      "metadata": {
        "id": "T_GNcVxBtBRg"
      }
    },
    {
      "cell_type": "code",
      "source": [
        "from time import perf_counter"
      ],
      "metadata": {
        "id": "E5CJdwOg9phs"
      },
      "execution_count": null,
      "outputs": []
    },
    {
      "cell_type": "code",
      "source": [
        "t1 = perf_counter()\n",
        "trainer.fit(model=model, datamodule=datamodule)\n",
        "t2 = perf_counter()"
      ],
      "metadata": {
        "colab": {
          "base_uri": "https://localhost:8080/",
          "height": 1000,
          "referenced_widgets": [
            "90456074bdf24b1187898664f9bdacb1",
            "f1cef4cf5a1443c49cd59529e7e26724",
            "d11ba299ab244cf895b78481754ae23b",
            "0db63fc5af9c4b7b89ba0b5ed49b134f",
            "56aafda8990a418f9b30f637b1d1dcf4",
            "378d549069424534a474efeda952048d",
            "2cb12bf3d38842e0b93d420c2cb5c3f5",
            "6ea89b40964244739ccd834bc0c278a4",
            "4878d52049bf46658aa02f58ce16e319",
            "2118b1ea8a2444d3a7e29cb03b9dd314",
            "e8840e6c32124824ae56a39733702a4f"
          ]
        },
        "id": "r8RxGwn3tA-q",
        "outputId": "99b0a6b4-52c1-4e68-ccb2-e9a6a0db2fee"
      },
      "execution_count": null,
      "outputs": [
        {
          "output_type": "stream",
          "name": "stderr",
          "text": [
            "/usr/local/lib/python3.10/dist-packages/pytorch_lightning/trainer/configuration_validator.py:69: UserWarning: You passed in a `val_dataloader` but have no `validation_step`. Skipping val loop.\n",
            "  rank_zero_warn(\"You passed in a `val_dataloader` but have no `validation_step`. Skipping val loop.\")\n",
            "INFO:pytorch_lightning.accelerators.cuda:LOCAL_RANK: 0 - CUDA_VISIBLE_DEVICES: [0]\n",
            "INFO:pytorch_lightning.callbacks.model_summary:\n",
            "  | Name  | Type        | Params\n",
            "--------------------------------------\n",
            "0 | model | Transformer | 14.6 M\n",
            "--------------------------------------\n",
            "14.6 M    Trainable params\n",
            "0         Non-trainable params\n",
            "14.6 M    Total params\n",
            "58.543    Total estimated model params size (MB)\n"
          ]
        },
        {
          "output_type": "display_data",
          "data": {
            "text/plain": [
              "Training: 0it [00:00, ?it/s]"
            ],
            "application/vnd.jupyter.widget-view+json": {
              "version_major": 2,
              "version_minor": 0,
              "model_id": "90456074bdf24b1187898664f9bdacb1"
            }
          },
          "metadata": {}
        },
        {
          "output_type": "stream",
          "name": "stderr",
          "text": [
            "INFO:pytorch_lightning.utilities.rank_zero:`Trainer.fit` stopped: `max_epochs=10` reached.\n",
            "INFO:pytorch_lightning.profilers.profiler:FIT Profiler Report\n",
            "\n",
            "--------------------------------------------------------------------------------------------------------------------------------------------------------------------------------------------------------------------------------------------------------------------------\n",
            "|  Action                                                                                                                                                        \t|  Mean duration (s)\t|  Num calls      \t|  Total time (s) \t|  Percentage %   \t|\n",
            "--------------------------------------------------------------------------------------------------------------------------------------------------------------------------------------------------------------------------------------------------------------------------\n",
            "|  Total                                                                                                                                                         \t|  -              \t|  17186214       \t|  9576.6         \t|  100 %          \t|\n",
            "--------------------------------------------------------------------------------------------------------------------------------------------------------------------------------------------------------------------------------------------------------------------------\n",
            "|  run_training_epoch                                                                                                                                            \t|  956.11         \t|  10             \t|  9561.1         \t|  99.838         \t|\n",
            "|  run_training_batch                                                                                                                                            \t|  0.0167         \t|  477390         \t|  7972.5         \t|  83.25          \t|\n",
            "|  [LightningModule]LanguageModel.optimizer_step                                                                                                                 \t|  0.016427       \t|  477390         \t|  7842.2         \t|  81.888         \t|\n",
            "|  [Strategy]SingleDeviceStrategy.backward                                                                                                                       \t|  0.0078598      \t|  477390         \t|  3752.2         \t|  39.181         \t|\n",
            "|  [Strategy]SingleDeviceStrategy.training_step                                                                                                                  \t|  0.0073537      \t|  477390         \t|  3510.6         \t|  36.658         \t|\n",
            "|  [_TrainingEpochLoop].train_dataloader_next                                                                                                                    \t|  0.0022209      \t|  477390         \t|  1060.2         \t|  11.071         \t|\n",
            "|  [Strategy]SingleDeviceStrategy.batch_to_device                                                                                                                \t|  0.0003186      \t|  477390         \t|  152.09         \t|  1.5882         \t|\n",
            "|  [LightningModule]LanguageModel.optimizer_zero_grad                                                                                                            \t|  0.00023171     \t|  477390         \t|  110.61         \t|  1.155          \t|\n",
            "|  [LightningModule]LanguageModel.transfer_batch_to_device                                                                                                       \t|  0.00021821     \t|  477390         \t|  104.17         \t|  1.0878         \t|\n",
            "|  [Callback]TQDMProgressBar.on_train_batch_end                                                                                                                  \t|  8.7079e-05     \t|  477390         \t|  41.571         \t|  0.43409        \t|\n",
            "|  [LightningModule]LanguageModel.configure_gradient_clipping                                                                                                    \t|  3.322e-05      \t|  477390         \t|  15.859         \t|  0.1656         \t|\n",
            "|  [Callback]ModelCheckpoint{'monitor': None, 'mode': 'min', 'every_n_train_steps': 0, 'every_n_epochs': 1, 'train_time_interval': None}.on_train_batch_end      \t|  3.3021e-05     \t|  477390         \t|  15.764         \t|  0.16461        \t|\n",
            "|  [LightningDataModule]WikiText2DataModule.prepare_data                                                                                                         \t|  8.5876         \t|  1              \t|  8.5876         \t|  0.089673       \t|\n",
            "|  [LightningModule]LanguageModel.prepare_data                                                                                                                   \t|  3.202          \t|  1              \t|  3.202          \t|  0.033435       \t|\n",
            "|  [Callback]TQDMProgressBar.on_after_backward                                                                                                                   \t|  4.7625e-06     \t|  477390         \t|  2.2736         \t|  0.023741       \t|\n",
            "|  [Callback]TQDMProgressBar.on_train_batch_start                                                                                                                \t|  4.533e-06      \t|  477390         \t|  2.164          \t|  0.022597       \t|\n",
            "|  [Callback]TQDMProgressBar.on_before_zero_grad                                                                                                                 \t|  4.4671e-06     \t|  477390         \t|  2.1326         \t|  0.022268       \t|\n",
            "|  [Callback]ModelCheckpoint{'monitor': None, 'mode': 'min', 'every_n_train_steps': 0, 'every_n_epochs': 1, 'train_time_interval': None}.on_train_epoch_end      \t|  0.19187        \t|  10             \t|  1.9187         \t|  0.020036       \t|\n",
            "|  [Callback]TQDMProgressBar.on_before_backward                                                                                                                  \t|  3.2317e-06     \t|  477390         \t|  1.5428         \t|  0.01611        \t|\n",
            "|  [LightningModule]LanguageModel.on_train_batch_start                                                                                                           \t|  3.213e-06      \t|  477390         \t|  1.5339         \t|  0.016017       \t|\n",
            "|  [Strategy]SingleDeviceStrategy.on_train_batch_start                                                                                                           \t|  3.08e-06       \t|  477390         \t|  1.4704         \t|  0.015354       \t|\n",
            "|  [LightningModule]LanguageModel.on_before_batch_transfer                                                                                                       \t|  2.766e-06      \t|  477390         \t|  1.3205         \t|  0.013789       \t|\n",
            "|  [Callback]ModelCheckpoint{'monitor': None, 'mode': 'min', 'every_n_train_steps': 0, 'every_n_epochs': 1, 'train_time_interval': None}.on_train_batch_start    \t|  2.7199e-06     \t|  477390         \t|  1.2985         \t|  0.013559       \t|\n",
            "|  [Callback]ModelSummary.on_train_batch_start                                                                                                                   \t|  2.5238e-06     \t|  477390         \t|  1.2048         \t|  0.012581       \t|\n",
            "|  [Callback]ModelSummary.on_train_batch_end                                                                                                                     \t|  2.4049e-06     \t|  477390         \t|  1.1481         \t|  0.011988       \t|\n",
            "|  [Callback]TQDMProgressBar.on_before_optimizer_step                                                                                                            \t|  2.2587e-06     \t|  477390         \t|  1.0783         \t|  0.01126        \t|\n",
            "|  [Callback]ModelSummary.on_before_zero_grad                                                                                                                    \t|  2.2277e-06     \t|  477390         \t|  1.0635         \t|  0.011105       \t|\n",
            "|  [LightningModule]LanguageModel.on_after_batch_transfer                                                                                                        \t|  2.2233e-06     \t|  477390         \t|  1.0614         \t|  0.011083       \t|\n",
            "|  [Callback]ModelCheckpoint{'monitor': None, 'mode': 'min', 'every_n_train_steps': 0, 'every_n_epochs': 1, 'train_time_interval': None}.on_after_backward       \t|  2.1885e-06     \t|  477390         \t|  1.0448         \t|  0.01091        \t|\n",
            "|  [Callback]ModelCheckpoint{'monitor': None, 'mode': 'min', 'every_n_train_steps': 0, 'every_n_epochs': 1, 'train_time_interval': None}.on_before_zero_grad     \t|  1.9559e-06     \t|  477390         \t|  0.93373        \t|  0.00975        \t|\n",
            "|  [LightningModule]LanguageModel.on_before_zero_grad                                                                                                            \t|  1.8715e-06     \t|  477390         \t|  0.89345        \t|  0.0093294      \t|\n",
            "|  [Callback]ModelCheckpoint{'monitor': None, 'mode': 'min', 'every_n_train_steps': 0, 'every_n_epochs': 1, 'train_time_interval': None}.on_before_backward      \t|  1.809e-06      \t|  477390         \t|  0.86361        \t|  0.0090178      \t|\n",
            "|  [Callback]ModelSummary.on_after_backward                                                                                                                      \t|  1.8074e-06     \t|  477390         \t|  0.86282        \t|  0.0090096      \t|\n",
            "|  [Callback]ModelSummary.on_before_backward                                                                                                                     \t|  1.8004e-06     \t|  477390         \t|  0.85951        \t|  0.0089751      \t|\n",
            "|  [LightningModule]LanguageModel.on_after_backward                                                                                                              \t|  1.6518e-06     \t|  477390         \t|  0.78857        \t|  0.0082343      \t|\n",
            "|  [Callback]ModelCheckpoint{'monitor': None, 'mode': 'min', 'every_n_train_steps': 0, 'every_n_epochs': 1, 'train_time_interval': None}.on_before_optimizer_step\t|  1.6513e-06     \t|  477390         \t|  0.78831        \t|  0.0082316      \t|\n",
            "|  [Callback]ModelSummary.on_before_optimizer_step                                                                                                               \t|  1.6074e-06     \t|  477390         \t|  0.76738        \t|  0.008013       \t|\n",
            "|  [LightningModule]LanguageModel.on_train_batch_end                                                                                                             \t|  1.5847e-06     \t|  477390         \t|  0.75652        \t|  0.0078996      \t|\n",
            "|  [LightningModule]LanguageModel.on_before_backward                                                                                                             \t|  1.4459e-06     \t|  477390         \t|  0.69027        \t|  0.0072078      \t|\n",
            "|  [LightningModule]LanguageModel.on_before_optimizer_step                                                                                                       \t|  1.2436e-06     \t|  477390         \t|  0.59367        \t|  0.0061991      \t|\n",
            "|  [Callback]TQDMProgressBar.on_train_start                                                                                                                      \t|  0.028275       \t|  1              \t|  0.028275       \t|  0.00029525     \t|\n",
            "|  [Callback]TQDMProgressBar.on_train_epoch_start                                                                                                                \t|  0.001695       \t|  10             \t|  0.01695        \t|  0.00017699     \t|\n",
            "|  [Callback]ModelSummary.on_fit_start                                                                                                                           \t|  0.0078658      \t|  1              \t|  0.0078658      \t|  8.2135e-05     \t|\n",
            "|  [Callback]TQDMProgressBar.on_train_end                                                                                                                        \t|  0.0040651      \t|  1              \t|  0.0040651      \t|  4.2448e-05     \t|\n",
            "|  [LightningDataModule]WikiText2DataModule.setup                                                                                                                \t|  0.002866       \t|  1              \t|  0.002866       \t|  2.9927e-05     \t|\n",
            "|  [Callback]TQDMProgressBar.on_train_epoch_end                                                                                                                  \t|  0.00017265     \t|  10             \t|  0.0017265      \t|  1.8028e-05     \t|\n",
            "|  [LightningModule]LanguageModel.configure_optimizers                                                                                                           \t|  0.00060009     \t|  1              \t|  0.00060009     \t|  6.2662e-06     \t|\n",
            "|  [LightningDataModule]WikiText2DataModule.train_dataloader                                                                                                     \t|  0.00046786     \t|  1              \t|  0.00046786     \t|  4.8854e-06     \t|\n",
            "|  [Callback]ModelCheckpoint{'monitor': None, 'mode': 'min', 'every_n_train_steps': 0, 'every_n_epochs': 1, 'train_time_interval': None}.setup                   \t|  8.8427e-05     \t|  1              \t|  8.8427e-05     \t|  9.2336e-07     \t|\n",
            "|  [Callback]ModelSummary.on_train_epoch_start                                                                                                                   \t|  6.1641e-06     \t|  10             \t|  6.1641e-05     \t|  6.4366e-07     \t|\n",
            "|  [Callback]TQDMProgressBar.on_save_checkpoint                                                                                                                  \t|  4.2532e-06     \t|  10             \t|  4.2532e-05     \t|  4.4412e-07     \t|\n",
            "|  [LightningDataModule]WikiText2DataModule.state_dict                                                                                                           \t|  3.5361e-06     \t|  10             \t|  3.5361e-05     \t|  3.6924e-07     \t|\n",
            "|  [Callback]ModelSummary.on_train_epoch_end                                                                                                                     \t|  3.0416e-06     \t|  10             \t|  3.0416e-05     \t|  3.1761e-07     \t|\n",
            "|  [Callback]ModelCheckpoint{'monitor': None, 'mode': 'min', 'every_n_train_steps': 0, 'every_n_epochs': 1, 'train_time_interval': None}.on_save_checkpoint      \t|  2.6141e-06     \t|  10             \t|  2.6141e-05     \t|  2.7297e-07     \t|\n",
            "|  [Callback]ModelSummary.on_save_checkpoint                                                                                                                     \t|  2.2937e-06     \t|  10             \t|  2.2937e-05     \t|  2.3951e-07     \t|\n",
            "|  [LightningModule]LanguageModel.on_train_epoch_start                                                                                                           \t|  2.1117e-06     \t|  10             \t|  2.1117e-05     \t|  2.2051e-07     \t|\n",
            "|  [Callback]ModelCheckpoint{'monitor': None, 'mode': 'min', 'every_n_train_steps': 0, 'every_n_epochs': 1, 'train_time_interval': None}.on_train_epoch_start    \t|  1.9876e-06     \t|  10             \t|  1.9876e-05     \t|  2.0755e-07     \t|\n",
            "|  [LightningModule]LanguageModel.on_train_epoch_end                                                                                                             \t|  1.9141e-06     \t|  10             \t|  1.9141e-05     \t|  1.9987e-07     \t|\n",
            "|  [LightningModule]LanguageModel.on_save_checkpoint                                                                                                             \t|  1.867e-06      \t|  10             \t|  1.867e-05      \t|  1.9495e-07     \t|\n",
            "|  [Callback]ModelSummary.on_train_start                                                                                                                         \t|  1.1665e-05     \t|  1              \t|  1.1665e-05     \t|  1.2181e-07     \t|\n",
            "|  [Callback]ModelCheckpoint{'monitor': None, 'mode': 'min', 'every_n_train_steps': 0, 'every_n_epochs': 1, 'train_time_interval': None}.on_fit_start            \t|  8.889e-06      \t|  1              \t|  8.889e-06      \t|  9.282e-08      \t|\n",
            "|  [Callback]TQDMProgressBar.setup                                                                                                                               \t|  7.714e-06      \t|  1              \t|  7.714e-06      \t|  8.055e-08      \t|\n",
            "|  [Callback]TQDMProgressBar.on_fit_end                                                                                                                          \t|  6.731e-06      \t|  1              \t|  6.731e-06      \t|  7.0286e-08     \t|\n",
            "|  [Callback]ModelSummary.on_train_end                                                                                                                           \t|  6.705e-06      \t|  1              \t|  6.705e-06      \t|  7.0014e-08     \t|\n",
            "|  [Callback]TQDMProgressBar.on_fit_start                                                                                                                        \t|  6.617e-06      \t|  1              \t|  6.617e-06      \t|  6.9095e-08     \t|\n",
            "|  [Callback]ModelCheckpoint{'monitor': None, 'mode': 'min', 'every_n_train_steps': 0, 'every_n_epochs': 1, 'train_time_interval': None}.on_train_start          \t|  4.66e-06       \t|  1              \t|  4.66e-06       \t|  4.866e-08      \t|\n",
            "|  [LightningModule]LanguageModel.configure_callbacks                                                                                                            \t|  3.675e-06      \t|  1              \t|  3.675e-06      \t|  3.8375e-08     \t|\n",
            "|  [Callback]TQDMProgressBar.teardown                                                                                                                            \t|  3.069e-06      \t|  1              \t|  3.069e-06      \t|  3.2047e-08     \t|\n",
            "|  [LightningDataModule]WikiText2DataModule.teardown                                                                                                             \t|  2.852e-06      \t|  1              \t|  2.852e-06      \t|  2.9781e-08     \t|\n",
            "|  [Callback]ModelCheckpoint{'monitor': None, 'mode': 'min', 'every_n_train_steps': 0, 'every_n_epochs': 1, 'train_time_interval': None}.on_fit_end              \t|  2.644e-06      \t|  1              \t|  2.644e-06      \t|  2.7609e-08     \t|\n",
            "|  [Callback]ModelSummary.setup                                                                                                                                  \t|  2.637e-06      \t|  1              \t|  2.637e-06      \t|  2.7536e-08     \t|\n",
            "|  [LightningModule]LanguageModel.on_fit_end                                                                                                                     \t|  2.63e-06       \t|  1              \t|  2.63e-06       \t|  2.7463e-08     \t|\n",
            "|  [LightningModule]LanguageModel.on_train_start                                                                                                                 \t|  2.575e-06      \t|  1              \t|  2.575e-06      \t|  2.6888e-08     \t|\n",
            "|  [Callback]ModelCheckpoint{'monitor': None, 'mode': 'min', 'every_n_train_steps': 0, 'every_n_epochs': 1, 'train_time_interval': None}.on_train_end            \t|  2.554e-06      \t|  1              \t|  2.554e-06      \t|  2.6669e-08     \t|\n",
            "|  [Callback]ModelSummary.teardown                                                                                                                               \t|  2.422e-06      \t|  1              \t|  2.422e-06      \t|  2.5291e-08     \t|\n",
            "|  [LightningModule]LanguageModel.on_train_end                                                                                                                   \t|  2.398e-06      \t|  1              \t|  2.398e-06      \t|  2.504e-08      \t|\n",
            "|  [Callback]ModelCheckpoint{'monitor': None, 'mode': 'min', 'every_n_train_steps': 0, 'every_n_epochs': 1, 'train_time_interval': None}.teardown                \t|  2.378e-06      \t|  1              \t|  2.378e-06      \t|  2.4831e-08     \t|\n",
            "|  [LightningModule]LanguageModel.on_fit_start                                                                                                                   \t|  2.283e-06      \t|  1              \t|  2.283e-06      \t|  2.3839e-08     \t|\n",
            "|  [LightningModule]LanguageModel.setup                                                                                                                          \t|  2.262e-06      \t|  1              \t|  2.262e-06      \t|  2.362e-08      \t|\n",
            "|  [Callback]ModelSummary.on_fit_end                                                                                                                             \t|  2.219e-06      \t|  1              \t|  2.219e-06      \t|  2.3171e-08     \t|\n",
            "|  [Strategy]SingleDeviceStrategy.on_train_start                                                                                                                 \t|  2.207e-06      \t|  1              \t|  2.207e-06      \t|  2.3046e-08     \t|\n",
            "|  [LightningModule]LanguageModel.configure_sharded_model                                                                                                        \t|  1.897e-06      \t|  1              \t|  1.897e-06      \t|  1.9809e-08     \t|\n",
            "|  [Strategy]SingleDeviceStrategy.on_train_end                                                                                                                   \t|  1.739e-06      \t|  1              \t|  1.739e-06      \t|  1.8159e-08     \t|\n",
            "|  [LightningModule]LanguageModel.teardown                                                                                                                       \t|  1.523e-06      \t|  1              \t|  1.523e-06      \t|  1.5903e-08     \t|\n",
            "--------------------------------------------------------------------------------------------------------------------------------------------------------------------------------------------------------------------------------------------------------------------------\n",
            "\n"
          ]
        }
      ]
    },
    {
      "cell_type": "code",
      "source": [
        "print(t2 - t1)"
      ],
      "metadata": {
        "colab": {
          "base_uri": "https://localhost:8080/"
        },
        "id": "xM4NrdWHCc5E",
        "outputId": "a1290a4e-65db-40aa-91f7-94e75c98009a"
      },
      "execution_count": null,
      "outputs": [
        {
          "output_type": "stream",
          "name": "stdout",
          "text": [
            "9588.063392338\n"
          ]
        }
      ]
    }
  ]
}